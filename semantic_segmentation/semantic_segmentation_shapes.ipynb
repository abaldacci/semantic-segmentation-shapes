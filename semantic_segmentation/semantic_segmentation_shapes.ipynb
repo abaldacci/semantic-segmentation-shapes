{
  "nbformat": 4,
  "nbformat_minor": 0,
  "metadata": {
    "colab": {
      "name": "semantic_segmentation.ipynb",
      "version": "0.3.2",
      "provenance": []
    },
    "kernelspec": {
      "name": "python3",
      "display_name": "Python 3"
    },
    "accelerator": "GPU"
  },
  "cells": [
    {
      "cell_type": "code",
      "metadata": {
        "id": "6qsLRHYEL8Xy",
        "colab_type": "code",
        "colab": {}
      },
      "source": [
        "import os\n",
        "import cv2\n",
        "import keras\n",
        "import numpy as np\n",
        "import random\n",
        "import math\n",
        "import matplotlib.pyplot as plt\n",
        "from sklearn.model_selection import train_test_split\n",
        "from tensorflow.keras import backend as K"
      ],
      "execution_count": 0,
      "outputs": []
    },
    {
      "cell_type": "markdown",
      "metadata": {
        "id": "AY7yqmhf3J1C",
        "colab_type": "text"
      },
      "source": [
        "Shapes generation utilities"
      ]
    },
    {
      "cell_type": "code",
      "metadata": {
        "id": "IyWPzDLdRK-y",
        "colab_type": "code",
        "colab": {}
      },
      "source": [
        "def drawCirle(image, circle, color):\n",
        "  (x, y), r, _, _ = circle\n",
        "  cv2.circle(image, (x, y), r, color, -1)\n",
        "  \n",
        "def xs(index, step, alpha, r):\n",
        "  return r*math.cos(alpha + step*index)\n",
        "\n",
        "def ys(index, step, alpha, r):\n",
        "  return r*math.sin(alpha + step*index)\n",
        "  \n",
        "def drawPolygon(image, shape, sides, color):\n",
        "    (x, y), r, shape_type, alpha = shape\n",
        "    step = 2.0*math.pi/sides\n",
        "    points = np.array([(x + xs(i, step, alpha, r), y + ys(i, step, alpha, r)) for i in range(sides)], np.int32)\n",
        "    cv2.fillConvexPoly(image, points, color)\n",
        "\n",
        "def checkIntersect(c1, c2):\n",
        "    (x1, y1), r1, _, _ = c1\n",
        "    (x2, y2), r2, _, _ = c2\n",
        "    return (x1-x2)**2 + (y1-y2)**2 < (1.2*(r1+r2))**2\n",
        "\n",
        "def checkIntersections(shapes, circle):\n",
        "    for s in shapes:\n",
        "        if checkIntersect(s, circle):\n",
        "            return True\n",
        "    return False\n",
        "  \n",
        "DrawMap = [\n",
        "    lambda image, shape, color: drawCirle  (image, shape, color)   ,\n",
        "    lambda image, shape, color: drawPolygon(image, shape, 3, color),\n",
        "    lambda image, shape, color: drawPolygon(image, shape, 4, color),\n",
        "    lambda image, shape, color: drawPolygon(image, shape, 5, color)\n",
        "]\n",
        "\n",
        "VizMap = [\n",
        "    (255, 0  , 0  ), # circle red\n",
        "    (0  , 255, 0  ), # triangle green\n",
        "    (0  , 0  , 255), # quad blue\n",
        "    (255, 255, 0  )  # pentagon yellow\n",
        "]\n",
        "\n",
        "INPUT_CHANNELS    = 1\n",
        "NUMBER_OF_CLASSES = 5\n",
        "RADIUS = 48\n",
        "WIDTH  = 512\n",
        "HEIGHT = 512\n",
        "MAX_SHAPES = 40\n",
        "\n",
        "def generateShapes():\n",
        "  shapes = []\n",
        "  for i in range(MAX_SHAPES):\n",
        "    shape_type = random.randrange(4)\n",
        "    r = RADIUS\n",
        "    x = random.randint(r, WIDTH  - r)\n",
        "    y = random.randint(r, HEIGHT - r)\n",
        "    alpha = 2*math.pi*random.random()\n",
        "    shape = (x,y), r, shape_type, alpha\n",
        "    if checkIntersections(shapes, shape) == False:\n",
        "      shapes.append(shape)\n",
        "      \n",
        "  return shapes\n",
        "  \n",
        "def generateImage(shapes):\n",
        "  image  = np.zeros((HEIGHT,WIDTH, INPUT_CHANNELS), np.uint8)\n",
        "  labels = np.zeros((HEIGHT,WIDTH, NUMBER_OF_CLASSES), np.uint8)\n",
        "  viz    = np.zeros((HEIGHT,WIDTH, 3), np.uint8)\n",
        "  \n",
        "  masks = []\n",
        "  for i in range(5):\n",
        "    masks.append(np.zeros((HEIGHT, WIDTH, 1), dtype=np.uint8))\n",
        "  \n",
        "  for shape in shapes:\n",
        "    _, _, shape_type, alpha = shape\n",
        "    \n",
        "    drawFunc = DrawMap [shape_type]\n",
        "    vizColor = VizMap  [shape_type]\n",
        "    \n",
        "    mask = masks[shape_type + 1]\n",
        "    \n",
        "    drawFunc(image , shape, (255, 255, 255))\n",
        "    drawFunc(mask  , shape, (255, 255, 255))\n",
        "    drawFunc(viz   , shape, vizColor)\n",
        "    \n",
        "  mask_or = np.zeros((HEIGHT, WIDTH, 1), dtype=np.uint8)\n",
        "  for i in range(1, 5):\n",
        "    mask_or = cv2.bitwise_or(masks[i], mask_or)\n",
        "    labels[:, :, i] = np.squeeze(masks[i])\n",
        "       \n",
        "  masks[0] = cv2.bitwise_not(mask_or)\n",
        "  labels[:, :, 0] = np.squeeze(masks[0])\n",
        "    \n",
        "  return image, labels, viz\n",
        "\n"
      ],
      "execution_count": 0,
      "outputs": []
    },
    {
      "cell_type": "markdown",
      "metadata": {
        "id": "XmQCBeqQ3Ha5",
        "colab_type": "text"
      },
      "source": [
        "Test shapes generation"
      ]
    },
    {
      "cell_type": "code",
      "metadata": {
        "id": "Iu0JfwJp3Dk6",
        "colab_type": "code",
        "colab": {
          "base_uri": "https://localhost:8080/",
          "height": 1000
        },
        "outputId": "da6b7121-c8b6-4a5f-a366-f6f5995f0e0d"
      },
      "source": [
        "shapes = generateShapes()\n",
        "\n",
        "image, labels, viz = generateImage(shapes)\n",
        "\n",
        "image_     = image [:, :, 0]\n",
        "background = labels[:, :, 0]\n",
        "circle     = labels[:, :, 1]\n",
        "triangle   = labels[:, :, 2]\n",
        "quad       = labels[:, :, 3]\n",
        "pentagon   = labels[:, :, 4]\n",
        "\n",
        "plt.imshow(image_, cmap='gray')\n",
        "plt.show()\n",
        "\n",
        "plt.imshow(background, cmap='gray')\n",
        "plt.show()\n",
        "\n",
        "plt.imshow(circle, cmap='gray')\n",
        "plt.show()\n",
        "\n",
        "plt.imshow(triangle, cmap='gray')\n",
        "plt.show()\n",
        "\n",
        "plt.imshow(quad, cmap='gray')\n",
        "plt.show()\n",
        "\n",
        "plt.imshow(pentagon, cmap='gray')\n",
        "plt.show()"
      ],
      "execution_count": 13,
      "outputs": [
        {
          "output_type": "display_data",
          "data": {
            "image/png": "[encoded data removed]",
            "text/plain": [
              "<Figure size 432x288 with 1 Axes>"
            ]
          },
          "metadata": {
            "tags": []
          }
        },
        {
          "output_type": "display_data",
          "data": {
            "image/png": "[encoded data removed]",
            "text/plain": [
              "<Figure size 432x288 with 1 Axes>"
            ]
          },
          "metadata": {
            "tags": []
          }
        },
        {
          "output_type": "display_data",
          "data": {
            "image/png": "[encoded data removed]",
            "text/plain": [
              "<Figure size 432x288 with 1 Axes>"
            ]
          },
          "metadata": {
            "tags": []
          }
        },
        {
          "output_type": "display_data",
          "data": {
            "image/png": "[encoded data removed]",
            "text/plain": [
              "<Figure size 432x288 with 1 Axes>"
            ]
          },
          "metadata": {
            "tags": []
          }
        },
        {
          "output_type": "display_data",
          "data": {
            "image/png": "[encoded data removed]",
            "text/plain": [
              "<Figure size 432x288 with 1 Axes>"
            ]
          },
          "metadata": {
            "tags": []
          }
        },
        {
          "output_type": "display_data",
          "data": {
            "image/png": "[encoded data removed]",
            "text/plain": [
              "<Figure size 432x288 with 1 Axes>"
            ]
          },
          "metadata": {
            "tags": []
          }
        }
      ]
    },
    {
      "cell_type": "markdown",
      "metadata": {
        "id": "hbHrlTLN3Xz2",
        "colab_type": "text"
      },
      "source": [
        "Generate training/validation dataset"
      ]
    },
    {
      "cell_type": "code",
      "metadata": {
        "id": "-jVtFIsmlj-L",
        "colab_type": "code",
        "outputId": "864726e9-28a0-4d92-91dd-da7a15e8f833",
        "colab": {
          "base_uri": "https://localhost:8080/",
          "height": 85
        }
      },
      "source": [
        "images=[]\n",
        "num_tot = 0\n",
        "num_0 = 0\n",
        "num_1 = 0\n",
        "num_2 = 0\n",
        "num_3 = 0\n",
        "num_4 = 0\n",
        "\n",
        "number_of_shapes = 10000\n",
        "\n",
        "import progressbar\n",
        "bar = progressbar.ProgressBar(maxval=number_of_shapes, \\\n",
        "    widgets=[progressbar.Bar('=', '[', ']'), ' ', progressbar.Percentage()])\n",
        "\n",
        "bar.start()\n",
        "for i in range(number_of_shapes):\n",
        "  shapes = generateShapes()\n",
        "  image, labels, viz = generateImage(shapes)\n",
        "  \n",
        "  num_tot = WIDTH * HEIGHT\n",
        "  num_0   += (labels[:, :, 0] == 255).sum() / num_tot\n",
        "  num_1   += (labels[:, :, 1] == 255).sum() / num_tot\n",
        "  num_2   += (labels[:, :, 2] == 255).sum() / num_tot\n",
        "  num_3   += (labels[:, :, 3] == 255).sum() / num_tot\n",
        "  num_4   += (labels[:, :, 4] == 255).sum() / num_tot\n",
        "  \n",
        "  bar.update(i+1)\n",
        "  images.append(shapes)\n",
        "  \n",
        "bar.finish()\n",
        "\n",
        "xTrain, xTest = train_test_split(np.arange(0, len(images)), random_state=0, test_size=0.1)\n",
        "\n",
        "print('Generated {} images'.format(len(images)))\n",
        "print('Generated {} training images'.format(len(xTrain)))\n",
        "print('Generated {} test     images'.format(len(xTest)))"
      ],
      "execution_count": 14,
      "outputs": [
        {
          "output_type": "stream",
          "text": [
            "[========================================================================] 100%\n"
          ],
          "name": "stderr"
        },
        {
          "output_type": "stream",
          "text": [
            "Generated 10000 images\n",
            "Generated 9000 training images\n",
            "Generated 1000 test     images\n"
          ],
          "name": "stdout"
        }
      ]
    },
    {
      "cell_type": "markdown",
      "metadata": {
        "id": "lCGyo7bq21Le",
        "colab_type": "text"
      },
      "source": [
        "Data Generator"
      ]
    },
    {
      "cell_type": "code",
      "metadata": {
        "id": "ZCsh3IToyzVh",
        "colab_type": "code",
        "colab": {}
      },
      "source": [
        "class DataGenerator(keras.utils.Sequence):\n",
        "    'Generates data for Keras'\n",
        "    def __init__(self, list_IDs, images, batch_size=16, dim=(WIDTH,HEIGHT), n_channels=1,\n",
        "                 n_classes=5, shuffle=True):\n",
        "        'Initialization'\n",
        "        self.dim = dim\n",
        "        self.batch_size = batch_size\n",
        "        self.images = images\n",
        "        self.list_IDs = list_IDs\n",
        "        self.n_channels = n_channels\n",
        "        self.n_classes = n_classes\n",
        "        self.shuffle = shuffle\n",
        "        self.on_epoch_end()\n",
        "\n",
        "    def __len__(self):\n",
        "        'Denotes the number of batches per epoch'\n",
        "        return int(np.floor(len(self.list_IDs) / self.batch_size))\n",
        "\n",
        "    def __getitem__(self, index):\n",
        "        'Generate one batch of data'\n",
        "        # Generate indexes of the batch\n",
        "        indexes = self.indexes[index*self.batch_size:(index+1)*self.batch_size]\n",
        "\n",
        "        # Find list of IDs\n",
        "        list_IDs_temp = [self.list_IDs[k] for k in indexes]\n",
        "\n",
        "        # Generate data\n",
        "        X, y = self.__data_generation(list_IDs_temp)\n",
        "\n",
        "        return X, y\n",
        "\n",
        "    def on_epoch_end(self):\n",
        "        'Updates indexes after each epoch'\n",
        "        self.indexes = np.arange(len(self.list_IDs))\n",
        "        if self.shuffle == True:\n",
        "            np.random.shuffle(self.indexes)\n",
        "\n",
        "    def __data_generation(self, list_IDs_temp):\n",
        "        'Generates data containing batch_size samples'\n",
        "        # Initialization\n",
        "        X = np.empty((self.batch_size, *self.dim, self.n_channels), dtype=np.uint8)\n",
        "        y = np.empty((self.batch_size, *self.dim, NUMBER_OF_CLASSES), dtype=np.uint8)\n",
        "\n",
        "        # Generate data\n",
        "        for i, ID in enumerate(list_IDs_temp):\n",
        "          \n",
        "            shapes = self.images[ID]\n",
        "            \n",
        "            image, labels, _ = generateImage(shapes)\n",
        "          \n",
        "            # Store sample\n",
        "            X[i,] = image\n",
        "\n",
        "            # Store class\n",
        "            y[i, ] = labels\n",
        "\n",
        "        X = X.astype(np.float32)\n",
        "        X /= 255.0\n",
        "        \n",
        "        y = y.astype(np.float32)\n",
        "        y /= 255.0\n",
        "        \n",
        "        y = y.reshape(self.batch_size, HEIGHT * WIDTH, NUMBER_OF_CLASSES)\n",
        "        \n",
        "        return X, y\n",
        "      \n",
        "train_generator = DataGenerator(xTrain, images)\n",
        "val_generator   = DataGenerator(xTest , images)"
      ],
      "execution_count": 0,
      "outputs": []
    },
    {
      "cell_type": "markdown",
      "metadata": {
        "id": "AtDdaRTz5Qbg",
        "colab_type": "text"
      },
      "source": [
        "Test Generator"
      ]
    },
    {
      "cell_type": "code",
      "metadata": {
        "id": "iysja2fS5Nct",
        "colab_type": "code",
        "colab": {
          "base_uri": "https://localhost:8080/",
          "height": 1000
        },
        "outputId": "ab3e4218-d4a8-483e-b26c-b96e6ca504df"
      },
      "source": [
        "X, y = train_generator.__getitem__(0)\n",
        "\n",
        "print(X.shape)\n",
        "print(y.shape)\n",
        "\n",
        "y = y.reshape(y.shape[0], WIDTH, HEIGHT, NUMBER_OF_CLASSES)\n",
        "\n",
        "print(y.shape)\n",
        "\n",
        "image      = X[0, :, :, 0]\n",
        "background = y[0, :, :, 0]\n",
        "circle     = y[0, :, :, 1]\n",
        "triangle   = y[0, :, :, 2]\n",
        "quad       = y[0, :, :, 3]\n",
        "pentagon   = y[0, :, :, 4]\n",
        "\n",
        "plt.imshow(image, cmap='gray')\n",
        "plt.show()\n",
        "\n",
        "plt.imshow(background, cmap='gray')\n",
        "plt.show()\n",
        "\n",
        "plt.imshow(circle, cmap='gray')\n",
        "plt.show()\n",
        "\n",
        "plt.imshow(triangle, cmap='gray')\n",
        "plt.show()\n",
        "\n",
        "plt.imshow(quad, cmap='gray')\n",
        "plt.show()\n",
        "\n",
        "plt.imshow(pentagon, cmap='gray')\n",
        "plt.show()"
      ],
      "execution_count": 18,
      "outputs": [
        {
          "output_type": "stream",
          "text": [
            "(16, 512, 512, 1)\n",
            "(16, 262144, 5)\n",
            "(16, 512, 512, 5)\n"
          ],
          "name": "stdout"
        },
        {
          "output_type": "display_data",
          "data": {
            "image/png": "[encoded data removed]",
            "text/plain": [
              "<Figure size 432x288 with 1 Axes>"
            ]
          },
          "metadata": {
            "tags": []
          }
        },
        {
          "output_type": "display_data",
          "data": {
            "image/png": "[encoded data removed]",
            "text/plain": [
              "<Figure size 432x288 with 1 Axes>"
            ]
          },
          "metadata": {
            "tags": []
          }
        },
        {
          "output_type": "display_data",
          "data": {
            "image/png": "[encoded data removed]",
            "text/plain": [
              "<Figure size 432x288 with 1 Axes>"
            ]
          },
          "metadata": {
            "tags": []
          }
        },
        {
          "output_type": "display_data",
          "data": {
            "image/png": "[encoded data removed]",
            "text/plain": [
              "<Figure size 432x288 with 1 Axes>"
            ]
          },
          "metadata": {
            "tags": []
          }
        },
        {
          "output_type": "display_data",
          "data": {
            "image/png": "[encoded data removed]",
            "text/plain": [
              "<Figure size 432x288 with 1 Axes>"
            ]
          },
          "metadata": {
            "tags": []
          }
        },
        {
          "output_type": "display_data",
          "data": {
            "image/png": "[encoded data removed]",
            "text/plain": [
              "<Figure size 432x288 with 1 Axes>"
            ]
          },
          "metadata": {
            "tags": []
          }
        }
      ]
    },
    {
      "cell_type": "markdown",
      "metadata": {
        "id": "KaueJo_k2qGS",
        "colab_type": "text"
      },
      "source": [
        "Model specification"
      ]
    },
    {
      "cell_type": "code",
      "metadata": {
        "id": "dExuC5mA9jOR",
        "colab_type": "code",
        "outputId": "1800b696-85e1-4940-9ca6-1a7b616d3faf",
        "colab": {
          "base_uri": "https://localhost:8080/",
          "height": 1000
        }
      },
      "source": [
        "def dice(y_true, y_pred, smooth=1.):\n",
        "    y_true_f = K.flatten(y_true)\n",
        "    y_pred_f = K.flatten(y_pred)\n",
        "    intersection = K.sum(y_true_f * y_pred_f)\n",
        "    return (2. * intersection + smooth) / (K.sum(y_true_f) + K.sum(y_pred_f) + smooth)\n",
        "\n",
        "def unet(inputs, n_classes, base=4):\n",
        "\n",
        "    b = base\n",
        "\n",
        "    c1 = keras.layers.Conv2D(2**b, (3, 3), activation='elu', kernel_initializer='he_normal', padding='same') (inputs)\n",
        "    c1 = keras.layers.Dropout(0.1) (c1)\n",
        "    c1 = keras.layers.Conv2D(2**b, (3, 3), activation='elu', kernel_initializer='he_normal', padding='same') (c1)\n",
        "    p1 = keras.layers.MaxPooling2D((2, 2)) (c1)\n",
        "\n",
        "    c2 = keras.layers.Conv2D(2**(b+1), (3, 3), activation='elu', kernel_initializer='he_normal', padding='same') (p1)\n",
        "    c2 = keras.layers.Dropout(0.1) (c2)\n",
        "    c2 = keras.layers.Conv2D(2**(b+1), (3, 3), activation='elu', kernel_initializer='he_normal', padding='same') (c2)\n",
        "    p2 = keras.layers.MaxPooling2D((2, 2)) (c2)\n",
        "\n",
        "    c3 = keras.layers.Conv2D(2**(b+2), (3, 3), activation='elu', kernel_initializer='he_normal', padding='same') (p2)\n",
        "    c3 = keras.layers.Dropout(0.2) (c3)\n",
        "    c3 = keras.layers.Conv2D(2**(b+2), (3, 3), activation='elu', kernel_initializer='he_normal', padding='same') (c3)\n",
        "    p3 = keras.layers.MaxPooling2D((2, 2)) (c3)\n",
        "\n",
        "    c4 = keras.layers.Conv2D(2**(b+3), (3, 3), activation='elu', kernel_initializer='he_normal', padding='same') (p3)\n",
        "    c4 = keras.layers.Dropout(0.2) (c4)\n",
        "    c4 = keras.layers.Conv2D(2**(b+3), (3, 3), activation='elu', kernel_initializer='he_normal', padding='same') (c4)\n",
        "    p4 = keras.layers.MaxPooling2D(pool_size=(2, 2)) (c4)\n",
        "\n",
        "    c5 = keras.layers.Conv2D(2**(b+4), (3, 3), activation='elu', kernel_initializer='he_normal', padding='same') (p4)\n",
        "    c5 = keras.layers.Dropout(0.3) (c5)\n",
        "    c5 = keras.layers.Conv2D(2**(b+4), (3, 3), activation='elu', kernel_initializer='he_normal', padding='same') (c5)\n",
        "\n",
        "    u6 = keras.layers.Conv2DTranspose(2**(b+3), (2, 2), strides=(2, 2), padding='same') (c5)\n",
        "    u6 = keras.layers.concatenate([u6, c4])\n",
        "    c6 = keras.layers.Conv2D(2**(b+3), (3, 3), activation='elu', kernel_initializer='he_normal', padding='same') (u6)\n",
        "    c6 = keras.layers.Dropout(0.2) (c6)\n",
        "    c6 = keras.layers.Conv2D(2**(b+3), (3, 3), activation='elu', kernel_initializer='he_normal', padding='same') (c6)\n",
        "\n",
        "    u7 = keras.layers.Conv2DTranspose(2**(b+2), (2, 2), strides=(2, 2), padding='same') (c6)\n",
        "    u7 = keras.layers.concatenate([u7, c3])\n",
        "    c7 = keras.layers.Conv2D(2**(b+2), (3, 3), activation='elu', kernel_initializer='he_normal', padding='same') (u7)\n",
        "    c7 = keras.layers.Dropout(0.2) (c7)\n",
        "    c7 = keras.layers.Conv2D(2**(b+2), (3, 3), activation='elu', kernel_initializer='he_normal', padding='same') (c7)\n",
        "\n",
        "    u8 = keras.layers.Conv2DTranspose(2**(b+1), (2, 2), strides=(2, 2), padding='same') (c7)\n",
        "    u8 = keras.layers.concatenate([u8, c2])\n",
        "    c8 = keras.layers.Conv2D(2**(b+1), (3, 3), activation='elu', kernel_initializer='he_normal', padding='same') (u8)\n",
        "    c8 = keras.layers.Dropout(0.1) (c8)\n",
        "    c8 = keras.layers.Conv2D(2**(b+1), (3, 3), activation='elu', kernel_initializer='he_normal', padding='same') (c8)\n",
        "\n",
        "    u9 = keras.layers.Conv2DTranspose(2**b, (2, 2), strides=(2, 2), padding='same') (c8)\n",
        "    u9 = keras.layers.concatenate([u9, c1], axis=3)\n",
        "    c9 = keras.layers.Conv2D(2**b, (3, 3), activation='elu', kernel_initializer='he_normal', padding='same') (u9)\n",
        "    c9 = keras.layers.Dropout(0.1) (c9)\n",
        "    c9 = keras.layers.Conv2D(2**b, (3, 3), activation='elu', kernel_initializer='he_normal', padding='same') (c9)\n",
        "\n",
        "    o = keras.layers.Conv2D(n_classes, (1, 1), activation='linear') (c9)\n",
        "\n",
        "    return o\n",
        "  \n",
        "inputs = keras.layers.Input((HEIGHT, WIDTH, INPUT_CHANNELS))\n",
        "\n",
        "base = unet(inputs, NUMBER_OF_CLASSES)\n",
        "\n",
        "base = keras.layers.Reshape((HEIGHT * WIDTH, NUMBER_OF_CLASSES))(base)\n",
        "activation = keras.layers.Activation('softmax')(base)\n",
        "    \n",
        "model = keras.Model(inputs=inputs, outputs=activation)\n",
        "model.compile(optimizer=keras.optimizers.Adadelta(), loss='categorical_crossentropy', metrics=[dice])#sample_weight_mode='temporal', metrics=[dice])\n",
        "model.summary()"
      ],
      "execution_count": 19,
      "outputs": [
        {
          "output_type": "stream",
          "text": [
            "WARNING:tensorflow:From /usr/local/lib/python3.6/dist-packages/keras/backend/tensorflow_backend.py:66: The name tf.get_default_graph is deprecated. Please use tf.compat.v1.get_default_graph instead.\n",
            "\n",
            "WARNING:tensorflow:From /usr/local/lib/python3.6/dist-packages/keras/backend/tensorflow_backend.py:541: The name tf.placeholder is deprecated. Please use tf.compat.v1.placeholder instead.\n",
            "\n",
            "WARNING:tensorflow:From /usr/local/lib/python3.6/dist-packages/keras/backend/tensorflow_backend.py:4479: The name tf.truncated_normal is deprecated. Please use tf.random.truncated_normal instead.\n",
            "\n",
            "WARNING:tensorflow:From /usr/local/lib/python3.6/dist-packages/keras/backend/tensorflow_backend.py:148: The name tf.placeholder_with_default is deprecated. Please use tf.compat.v1.placeholder_with_default instead.\n",
            "\n",
            "WARNING:tensorflow:From /usr/local/lib/python3.6/dist-packages/keras/backend/tensorflow_backend.py:3733: calling dropout (from tensorflow.python.ops.nn_ops) with keep_prob is deprecated and will be removed in a future version.\n",
            "Instructions for updating:\n",
            "Please use `rate` instead of `keep_prob`. Rate should be set to `rate = 1 - keep_prob`.\n",
            "WARNING:tensorflow:From /usr/local/lib/python3.6/dist-packages/keras/backend/tensorflow_backend.py:4267: The name tf.nn.max_pool is deprecated. Please use tf.nn.max_pool2d instead.\n",
            "\n",
            "WARNING:tensorflow:From /usr/local/lib/python3.6/dist-packages/keras/backend/tensorflow_backend.py:4432: The name tf.random_uniform is deprecated. Please use tf.random.uniform instead.\n",
            "\n",
            "WARNING:tensorflow:From /usr/local/lib/python3.6/dist-packages/keras/optimizers.py:793: The name tf.train.Optimizer is deprecated. Please use tf.compat.v1.train.Optimizer instead.\n",
            "\n",
            "Model: \"model_1\"\n",
            "__________________________________________________________________________________________________\n",
            "Layer (type)                    Output Shape         Param #     Connected to                     \n",
            "==================================================================================================\n",
            "input_1 (InputLayer)            (None, 512, 512, 1)  0                                            \n",
            "__________________________________________________________________________________________________\n",
            "conv2d_1 (Conv2D)               (None, 512, 512, 16) 160         input_1[0][0]                    \n",
            "__________________________________________________________________________________________________\n",
            "dropout_1 (Dropout)             (None, 512, 512, 16) 0           conv2d_1[0][0]                   \n",
            "__________________________________________________________________________________________________\n",
            "conv2d_2 (Conv2D)               (None, 512, 512, 16) 2320        dropout_1[0][0]                  \n",
            "__________________________________________________________________________________________________\n",
            "max_pooling2d_1 (MaxPooling2D)  (None, 256, 256, 16) 0           conv2d_2[0][0]                   \n",
            "__________________________________________________________________________________________________\n",
            "conv2d_3 (Conv2D)               (None, 256, 256, 32) 4640        max_pooling2d_1[0][0]            \n",
            "__________________________________________________________________________________________________\n",
            "dropout_2 (Dropout)             (None, 256, 256, 32) 0           conv2d_3[0][0]                   \n",
            "__________________________________________________________________________________________________\n",
            "conv2d_4 (Conv2D)               (None, 256, 256, 32) 9248        dropout_2[0][0]                  \n",
            "__________________________________________________________________________________________________\n",
            "max_pooling2d_2 (MaxPooling2D)  (None, 128, 128, 32) 0           conv2d_4[0][0]                   \n",
            "__________________________________________________________________________________________________\n",
            "conv2d_5 (Conv2D)               (None, 128, 128, 64) 18496       max_pooling2d_2[0][0]            \n",
            "__________________________________________________________________________________________________\n",
            "dropout_3 (Dropout)             (None, 128, 128, 64) 0           conv2d_5[0][0]                   \n",
            "__________________________________________________________________________________________________\n",
            "conv2d_6 (Conv2D)               (None, 128, 128, 64) 36928       dropout_3[0][0]                  \n",
            "__________________________________________________________________________________________________\n",
            "max_pooling2d_3 (MaxPooling2D)  (None, 64, 64, 64)   0           conv2d_6[0][0]                   \n",
            "__________________________________________________________________________________________________\n",
            "conv2d_7 (Conv2D)               (None, 64, 64, 128)  73856       max_pooling2d_3[0][0]            \n",
            "__________________________________________________________________________________________________\n",
            "dropout_4 (Dropout)             (None, 64, 64, 128)  0           conv2d_7[0][0]                   \n",
            "__________________________________________________________________________________________________\n",
            "conv2d_8 (Conv2D)               (None, 64, 64, 128)  147584      dropout_4[0][0]                  \n",
            "__________________________________________________________________________________________________\n",
            "max_pooling2d_4 (MaxPooling2D)  (None, 32, 32, 128)  0           conv2d_8[0][0]                   \n",
            "__________________________________________________________________________________________________\n",
            "conv2d_9 (Conv2D)               (None, 32, 32, 256)  295168      max_pooling2d_4[0][0]            \n",
            "__________________________________________________________________________________________________\n",
            "dropout_5 (Dropout)             (None, 32, 32, 256)  0           conv2d_9[0][0]                   \n",
            "__________________________________________________________________________________________________\n",
            "conv2d_10 (Conv2D)              (None, 32, 32, 256)  590080      dropout_5[0][0]                  \n",
            "__________________________________________________________________________________________________\n",
            "conv2d_transpose_1 (Conv2DTrans (None, 64, 64, 128)  131200      conv2d_10[0][0]                  \n",
            "__________________________________________________________________________________________________\n",
            "concatenate_1 (Concatenate)     (None, 64, 64, 256)  0           conv2d_transpose_1[0][0]         \n",
            "                                                                 conv2d_8[0][0]                   \n",
            "__________________________________________________________________________________________________\n",
            "conv2d_11 (Conv2D)              (None, 64, 64, 128)  295040      concatenate_1[0][0]              \n",
            "__________________________________________________________________________________________________\n",
            "dropout_6 (Dropout)             (None, 64, 64, 128)  0           conv2d_11[0][0]                  \n",
            "__________________________________________________________________________________________________\n",
            "conv2d_12 (Conv2D)              (None, 64, 64, 128)  147584      dropout_6[0][0]                  \n",
            "__________________________________________________________________________________________________\n",
            "conv2d_transpose_2 (Conv2DTrans (None, 128, 128, 64) 32832       conv2d_12[0][0]                  \n",
            "__________________________________________________________________________________________________\n",
            "concatenate_2 (Concatenate)     (None, 128, 128, 128 0           conv2d_transpose_2[0][0]         \n",
            "                                                                 conv2d_6[0][0]                   \n",
            "__________________________________________________________________________________________________\n",
            "conv2d_13 (Conv2D)              (None, 128, 128, 64) 73792       concatenate_2[0][0]              \n",
            "__________________________________________________________________________________________________\n",
            "dropout_7 (Dropout)             (None, 128, 128, 64) 0           conv2d_13[0][0]                  \n",
            "__________________________________________________________________________________________________\n",
            "conv2d_14 (Conv2D)              (None, 128, 128, 64) 36928       dropout_7[0][0]                  \n",
            "__________________________________________________________________________________________________\n",
            "conv2d_transpose_3 (Conv2DTrans (None, 256, 256, 32) 8224        conv2d_14[0][0]                  \n",
            "__________________________________________________________________________________________________\n",
            "concatenate_3 (Concatenate)     (None, 256, 256, 64) 0           conv2d_transpose_3[0][0]         \n",
            "                                                                 conv2d_4[0][0]                   \n",
            "__________________________________________________________________________________________________\n",
            "conv2d_15 (Conv2D)              (None, 256, 256, 32) 18464       concatenate_3[0][0]              \n",
            "__________________________________________________________________________________________________\n",
            "dropout_8 (Dropout)             (None, 256, 256, 32) 0           conv2d_15[0][0]                  \n",
            "__________________________________________________________________________________________________\n",
            "conv2d_16 (Conv2D)              (None, 256, 256, 32) 9248        dropout_8[0][0]                  \n",
            "__________________________________________________________________________________________________\n",
            "conv2d_transpose_4 (Conv2DTrans (None, 512, 512, 16) 2064        conv2d_16[0][0]                  \n",
            "__________________________________________________________________________________________________\n",
            "concatenate_4 (Concatenate)     (None, 512, 512, 32) 0           conv2d_transpose_4[0][0]         \n",
            "                                                                 conv2d_2[0][0]                   \n",
            "__________________________________________________________________________________________________\n",
            "conv2d_17 (Conv2D)              (None, 512, 512, 16) 4624        concatenate_4[0][0]              \n",
            "__________________________________________________________________________________________________\n",
            "dropout_9 (Dropout)             (None, 512, 512, 16) 0           conv2d_17[0][0]                  \n",
            "__________________________________________________________________________________________________\n",
            "conv2d_18 (Conv2D)              (None, 512, 512, 16) 2320        dropout_9[0][0]                  \n",
            "__________________________________________________________________________________________________\n",
            "conv2d_19 (Conv2D)              (None, 512, 512, 5)  85          conv2d_18[0][0]                  \n",
            "__________________________________________________________________________________________________\n",
            "reshape_1 (Reshape)             (None, 262144, 5)    0           conv2d_19[0][0]                  \n",
            "__________________________________________________________________________________________________\n",
            "activation_1 (Activation)       (None, 262144, 5)    0           reshape_1[0][0]                  \n",
            "==================================================================================================\n",
            "Total params: 1,940,885\n",
            "Trainable params: 1,940,885\n",
            "Non-trainable params: 0\n",
            "__________________________________________________________________________________________________\n"
          ],
          "name": "stdout"
        }
      ]
    },
    {
      "cell_type": "code",
      "metadata": {
        "id": "OF1Pv1PG1srh",
        "colab_type": "code",
        "outputId": "25d63966-7d2a-410b-d09a-e5d7a645ca50",
        "colab": {
          "base_uri": "https://localhost:8080/",
          "height": 139
        }
      },
      "source": [
        "from google.colab import drive\n",
        "drive.mount('/content/gdrive')\n",
        "print(os.listdir('/content/gdrive/My Drive'))"
      ],
      "execution_count": 21,
      "outputs": [
        {
          "output_type": "stream",
          "text": [
            "Go to this URL in a browser: https://accounts.google.com/o/oauth2/auth?client_id=947318989803-6bn6qk8qdgf4n4g3pfee6491hc0brc4i.apps.googleusercontent.com&redirect_uri=urn%3Aietf%3Awg%3Aoauth%3A2.0%3Aoob&scope=email%20https%3A%2F%2Fwww.googleapis.com%2Fauth%2Fdocs.test%20https%3A%2F%2Fwww.googleapis.com%2Fauth%2Fdrive%20https%3A%2F%2Fwww.googleapis.com%2Fauth%2Fdrive.photos.readonly%20https%3A%2F%2Fwww.googleapis.com%2Fauth%2Fpeopleapi.readonly&response_type=code\n",
            "\n",
            "Enter your authorization code:\n",
            "··········\n",
            "Mounted at /content/gdrive\n",
            "['Emb3D_Business_Plan.gdoc', 'PreventivoLeonardo.gdoc', 'PreventivoBelmonte.gdoc', 'lcd7seg-master.zip', 'Coursera - Bayesian Methods for Machine Learning', 'sasso.7z', 'Foglio di lavoro senza nome.gsheet', 'Colab Notebooks', 'FS -TNL CONTRATTO DI APPALTO PER RAYTRACER 1.pdf', 'NetFarm.gsheet', 'Copia di QuipuFacSimileFattura.gsheet', 'model.h5']\n"
          ],
          "name": "stdout"
        }
      ]
    },
    {
      "cell_type": "markdown",
      "metadata": {
        "id": "TpdmW2lF2lpC",
        "colab_type": "text"
      },
      "source": [
        "Model Training"
      ]
    },
    {
      "cell_type": "code",
      "metadata": {
        "id": "4Cl_s3Yh8Z4h",
        "colab_type": "code",
        "outputId": "f207aa0d-f3b2-4252-f09a-6c256f79ab1d",
        "colab": {
          "base_uri": "https://localhost:8080/",
          "height": 1000
        }
      },
      "source": [
        "checkpoint = keras.callbacks.ModelCheckpoint(\n",
        "    '/content/gdrive/My Drive/model.h5', \n",
        "    monitor='val_dice', \n",
        "    verbose=1, \n",
        "    save_best_only=True, \n",
        "    save_weights_only=False,\n",
        "    mode='max'\n",
        ")\n",
        "\n",
        "earlyStopping = keras.callbacks.EarlyStopping(monitor='val_dice', mode='max', verbose=1, patience=10)\n",
        "\n",
        "#from keras.models import load_model\n",
        "\n",
        "#model = load_model('/content/gdrive/My Drive/model.h5', custom_objects={'dice': dice})\n",
        "\n",
        "history = model.fit_generator(\n",
        "    train_generator,\n",
        "    validation_data=val_generator,\n",
        "    callbacks=[checkpoint, earlyStopping],\n",
        "    use_multiprocessing=True,\n",
        "    workers=1,\n",
        "    epochs=20\n",
        ")"
      ],
      "execution_count": 22,
      "outputs": [
        {
          "output_type": "stream",
          "text": [
            "WARNING:tensorflow:From /usr/local/lib/python3.6/dist-packages/tensorflow/python/ops/math_grad.py:1250: add_dispatch_support.<locals>.wrapper (from tensorflow.python.ops.array_ops) is deprecated and will be removed in a future version.\n",
            "Instructions for updating:\n",
            "Use tf.where in 2.0, which has the same broadcast rule as np.where\n",
            "Epoch 1/20\n",
            "562/562 [==============================] - 828s 1s/step - loss: 0.1847 - dice: 0.9031 - val_loss: 0.0051 - val_dice: 0.9962\n",
            "\n",
            "Epoch 00001: val_dice improved from -inf to 0.99623, saving model to /content/gdrive/My Drive/model.h5\n",
            "Epoch 2/20\n",
            "562/562 [==============================] - 798s 1s/step - loss: 0.0013 - dice: 0.9991 - val_loss: 3.5275e-04 - val_dice: 0.9998\n",
            "\n",
            "Epoch 00002: val_dice improved from 0.99623 to 0.99977, saving model to /content/gdrive/My Drive/model.h5\n",
            "Epoch 3/20\n",
            "562/562 [==============================] - 797s 1s/step - loss: 2.3465e-04 - dice: 0.9998 - val_loss: 1.5630e-04 - val_dice: 0.9999\n",
            "\n",
            "Epoch 00003: val_dice improved from 0.99977 to 0.99990, saving model to /content/gdrive/My Drive/model.h5\n",
            "Epoch 4/20\n",
            "562/562 [==============================] - 803s 1s/step - loss: 1.1052e-04 - dice: 0.9999 - val_loss: 1.7110e-04 - val_dice: 0.9999\n",
            "\n",
            "Epoch 00004: val_dice improved from 0.99990 to 0.99991, saving model to /content/gdrive/My Drive/model.h5\n",
            "Epoch 5/20\n",
            "562/562 [==============================] - 796s 1s/step - loss: 6.9438e-05 - dice: 0.9999 - val_loss: 1.6836e-04 - val_dice: 0.9999\n",
            "\n",
            "Epoch 00005: val_dice improved from 0.99991 to 0.99991, saving model to /content/gdrive/My Drive/model.h5\n",
            "Epoch 6/20\n",
            "562/562 [==============================] - 797s 1s/step - loss: 5.0111e-05 - dice: 1.0000 - val_loss: 2.1197e-04 - val_dice: 0.9999\n",
            "\n",
            "Epoch 00006: val_dice did not improve from 0.99991\n",
            "Epoch 7/20\n",
            "562/562 [==============================] - 801s 1s/step - loss: 3.9412e-05 - dice: 1.0000 - val_loss: 1.9828e-04 - val_dice: 0.9999\n",
            "\n",
            "Epoch 00007: val_dice did not improve from 0.99991\n",
            "Epoch 8/20\n",
            "562/562 [==============================] - 801s 1s/step - loss: 3.1520e-05 - dice: 1.0000 - val_loss: 1.0740e-04 - val_dice: 0.9999\n",
            "\n",
            "Epoch 00008: val_dice improved from 0.99991 to 0.99994, saving model to /content/gdrive/My Drive/model.h5\n",
            "Epoch 9/20\n",
            "562/562 [==============================] - 801s 1s/step - loss: 2.6276e-05 - dice: 1.0000 - val_loss: 1.2156e-04 - val_dice: 0.9999\n",
            "\n",
            "Epoch 00009: val_dice did not improve from 0.99994\n",
            "Epoch 10/20\n",
            "562/562 [==============================] - 800s 1s/step - loss: 2.2633e-05 - dice: 1.0000 - val_loss: 1.4113e-04 - val_dice: 0.9999\n",
            "\n",
            "Epoch 00010: val_dice did not improve from 0.99994\n",
            "Epoch 11/20\n",
            "562/562 [==============================] - 800s 1s/step - loss: 1.9549e-05 - dice: 1.0000 - val_loss: 1.4440e-04 - val_dice: 0.9999\n",
            "\n",
            "Epoch 00011: val_dice did not improve from 0.99994\n",
            "Epoch 12/20\n",
            "562/562 [==============================] - 807s 1s/step - loss: 1.7608e-05 - dice: 1.0000 - val_loss: 1.1662e-04 - val_dice: 0.9999\n",
            "\n",
            "Epoch 00012: val_dice did not improve from 0.99994\n",
            "Epoch 13/20\n",
            "562/562 [==============================] - 809s 1s/step - loss: 1.5543e-05 - dice: 1.0000 - val_loss: 1.0402e-04 - val_dice: 0.9999\n",
            "\n",
            "Epoch 00013: val_dice improved from 0.99994 to 0.99995, saving model to /content/gdrive/My Drive/model.h5\n",
            "Epoch 14/20\n",
            "562/562 [==============================] - 807s 1s/step - loss: 1.4542e-05 - dice: 1.0000 - val_loss: 2.7238e-04 - val_dice: 0.9999\n",
            "\n",
            "Epoch 00014: val_dice did not improve from 0.99995\n",
            "Epoch 15/20\n",
            "562/562 [==============================] - 808s 1s/step - loss: 1.2923e-05 - dice: 1.0000 - val_loss: 1.5684e-04 - val_dice: 0.9999\n",
            "\n",
            "Epoch 00015: val_dice did not improve from 0.99995\n",
            "Epoch 16/20\n",
            "562/562 [==============================] - 805s 1s/step - loss: 1.1996e-05 - dice: 1.0000 - val_loss: 1.8484e-04 - val_dice: 0.9999\n",
            "\n",
            "Epoch 00016: val_dice did not improve from 0.99995\n",
            "Epoch 17/20\n",
            "562/562 [==============================] - 798s 1s/step - loss: 1.0915e-05 - dice: 1.0000 - val_loss: 1.6521e-04 - val_dice: 0.9999\n",
            "\n",
            "Epoch 00017: val_dice did not improve from 0.99995\n",
            "Epoch 18/20\n",
            "562/562 [==============================] - 798s 1s/step - loss: 1.0312e-05 - dice: 1.0000 - val_loss: 1.3768e-04 - val_dice: 0.9999\n",
            "\n",
            "Epoch 00018: val_dice did not improve from 0.99995\n",
            "Epoch 19/20\n",
            "562/562 [==============================] - 798s 1s/step - loss: 9.8870e-06 - dice: 1.0000 - val_loss: 1.5486e-04 - val_dice: 0.9999\n",
            "\n",
            "Epoch 00019: val_dice did not improve from 0.99995\n",
            "Epoch 20/20\n",
            "562/562 [==============================] - 797s 1s/step - loss: 8.9620e-06 - dice: 1.0000 - val_loss: 1.7356e-04 - val_dice: 0.9999\n",
            "\n",
            "Epoch 00020: val_dice did not improve from 0.99995\n"
          ],
          "name": "stdout"
        }
      ]
    },
    {
      "cell_type": "markdown",
      "metadata": {
        "id": "YVyLA7Ut2h8i",
        "colab_type": "text"
      },
      "source": [
        "Test Predictions"
      ]
    },
    {
      "cell_type": "code",
      "metadata": {
        "id": "CEoX94PV9ehq",
        "colab_type": "code",
        "outputId": "176d3fec-1ce3-4d33-a84b-587644c87476",
        "colab": {
          "base_uri": "https://localhost:8080/",
          "height": 538
        }
      },
      "source": [
        "def dicenp(y_true, y_pred, smooth=1.):\n",
        "    y_true_f = y_true.flatten()\n",
        "    y_pred_f = y_pred.flatten()\n",
        "    intersection = np.sum(y_true_f * y_pred_f)\n",
        "    return (2. * intersection + smooth) / (np.sum(y_true_f) + np.sum(y_pred_f) + smooth)\n",
        "\n",
        "test_shapes = generateShapes()\n",
        "image, labels, viz  = generateImage(test_shapes)\n",
        "\n",
        "plt.imshow(viz)\n",
        "plt.show()\n",
        "\n",
        "z = np.empty((1, WIDTH, HEIGHT, 1), dtype=np.uint8)\n",
        "z[0, :, :, :] = image\n",
        "\n",
        "z = z.astype(np.float32)\n",
        "z /= 255.0\n",
        "\n",
        "prediction = model.predict(z)\n",
        "\n",
        "labels = labels.astype(np.float32)\n",
        "labels /= 255.0\n",
        "\n",
        "prediction = prediction.reshape(1, WIDTH, HEIGHT, NUMBER_OF_CLASSES)\n",
        "\n",
        "cmax = np.argmax(prediction, axis=3)\n",
        "cmax = cmax[0, :, :]\n",
        "\n",
        "viz_pred = np.zeros((HEIGHT, WIDTH, 3), np.uint8)\n",
        "\n",
        "for ix,iy in np.ndindex(cmax.shape):\n",
        "    shape_type = cmax[ix,iy]\n",
        "    if shape_type == 0:\n",
        "      viz_pred[ix,iy] = [0, 0, 0]\n",
        "    else:\n",
        "      viz_pred[ix,iy] = VizMap[shape_type - 1]\n",
        "     \n",
        "    \n",
        "plt.imshow(viz_pred)\n",
        "plt.show()\n",
        "\n",
        "# Print dice coefficent\n",
        "dice_coeff = dicenp(labels, prediction)\n",
        "print(dice_coeff)"
      ],
      "execution_count": 27,
      "outputs": [
        {
          "output_type": "display_data",
          "data": {
            "image/png": "[encoded data removed]",
            "text/plain": [
              "<Figure size 432x288 with 1 Axes>"
            ]
          },
          "metadata": {
            "tags": []
          }
        },
        {
          "output_type": "display_data",
          "data": {
            "image/png": "[encoded data removed]",
            "text/plain": [
              "<Figure size 432x288 with 1 Axes>"
            ]
          },
          "metadata": {
            "tags": []
          }
        },
        {
          "output_type": "stream",
          "text": [
            "0.99998521807629\n"
          ],
          "name": "stdout"
        }
      ]
    }
  ]
}